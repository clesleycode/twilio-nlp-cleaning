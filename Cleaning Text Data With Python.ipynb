{
 "cells": [
  {
   "cell_type": "markdown",
   "metadata": {},
   "source": [
    "## Cleaning Text Data With Python"
   ]
  },
  {
   "cell_type": "code",
   "execution_count": 2,
   "metadata": {},
   "outputs": [],
   "source": [
    "# reads in file and adds each line as an element\n",
    "def process_file(filename):\n",
    "    \"\"\"\n",
    "    Pass a file as input and this function returns\n",
    "    the file contents as a list\n",
    "    \"\"\"\n",
    "    file_contents = []\n",
    "    for i in open(filename):\n",
    "        file_contents.append(i)\n",
    "    return file_contents"
   ]
  },
  {
   "cell_type": "code",
   "execution_count": 3,
   "metadata": {},
   "outputs": [],
   "source": [
    "def clean_file(file_contents):\n",
    "    cleaned_words = []\n",
    "    for i in file_contents:\n",
    "        if len(i) < 2:\n",
    "            cleaned_words.append(i)\n",
    "        else:\n",
    "            cleaned_words.append(i.split()[0])\n",
    "    return cleaned_words"
   ]
  },
  {
   "cell_type": "code",
   "execution_count": 4,
   "metadata": {},
   "outputs": [],
   "source": [
    "# returns words in file without duplicates\n",
    "def get_unique_words(cleaned_words):\n",
    "    return set(cleaned_words)"
   ]
  },
  {
   "cell_type": "code",
   "execution_count": 5,
   "metadata": {},
   "outputs": [],
   "source": [
    "#  returns dictionary with counts\n",
    "def count_words(word_set, cleaned_words):\n",
    "    unique_words_dict = {}\n",
    "    for i in word_set:\n",
    "        unique_words_dict[i] = 0\n",
    "    for i in cleaned_words:\n",
    "        unique_words_dict[i] = unique_words_dict[i] + 1\n",
    "    return unique_words_dict"
   ]
  },
  {
   "cell_type": "code",
   "execution_count": 6,
   "metadata": {},
   "outputs": [],
   "source": [
    "# replaces word with RARE if < 5\n",
    "def replace_rare(file_contents, count_words):\n",
    "    f2 = open('4_1.txt', 'w')\n",
    "    for i in file_contents: \n",
    "        if len(i.strip()) == 0:\n",
    "            pass\n",
    "        elif count_words[i.split()[0]] < 5: \n",
    "            f2.write(\"_RARE_ \" + \"\".join(i.split()[1:])+\"\\n\") # NewLine\n",
    "        else:\n",
    "            f2.write(i)\n",
    "    f2.close()"
   ]
  },
  {
   "cell_type": "code",
   "execution_count": 11,
   "metadata": {},
   "outputs": [],
   "source": [
    "import count_freqs\n",
    "\n",
    "\"\"\"\n",
    "    After classifying the words as _RARE_,\n",
    "    re-run the count_freqs.py\n",
    "    this creates file named 'out.count'\n",
    "\"\"\"\n",
    "file_contents = process_file(\"./ner_train.dat\")\n",
    "cleaned_words = clean_file(file_contents)\n",
    "word_set = get_unique_words(cleaned_words)\n",
    "unique_words_dict = count_words(word_set, cleaned_words)\n",
    "replace_rare(file_contents, unique_words_dict)\n",
    "count_freqs.main('4_1.txt')"
   ]
  },
  {
   "cell_type": "code",
   "execution_count": null,
   "metadata": {},
   "outputs": [],
   "source": []
  }
 ],
 "metadata": {
  "kernelspec": {
   "display_name": "Python 3",
   "language": "python",
   "name": "python3"
  },
  "language_info": {
   "codemirror_mode": {
    "name": "ipython",
    "version": 3
   },
   "file_extension": ".py",
   "mimetype": "text/x-python",
   "name": "python",
   "nbconvert_exporter": "python",
   "pygments_lexer": "ipython3",
   "version": "3.6.2"
  }
 },
 "nbformat": 4,
 "nbformat_minor": 2
}
